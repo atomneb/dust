{
 "cells": [
  {
   "cell_type": "code",
   "execution_count": 1,
   "metadata": {
    "collapsed": false
   },
   "outputs": [],
   "source": [
    "import numpy as np\n",
    "import matplotlib.pyplot as plt\n",
    "\n",
    "%matplotlib inline"
   ]
  },
  {
   "cell_type": "code",
   "execution_count": 2,
   "metadata": {
    "collapsed": false
   },
   "outputs": [],
   "source": [
    "from astrodust import distlib\n",
    "\n",
    "MD  = 1.e-5 # g cm^-2\n",
    "RHO = 2.5   # g cm^-3"
   ]
  },
  {
   "cell_type": "markdown",
   "metadata": {},
   "source": [
    "# Examples of different grain size distributions in astrodust.distlib\n",
    "\n",
    "1. A single grain size: **distlib.Grain()**\n",
    "\n",
    "2. A powerlaw distribution of grains: **distlib.Powerlaw()**\n",
    "\n",
    "3. Distributions from Weingartner & Draine (2001): **distlib.WD01**"
   ]
  },
  {
   "cell_type": "markdown",
   "metadata": {},
   "source": [
    "## 1. A single grain size\n",
    "\n",
    "*distlib.Grain()*"
   ]
  },
  {
   "cell_type": "code",
   "execution_count": 3,
   "metadata": {
    "collapsed": true
   },
   "outputs": [],
   "source": [
    "small_grain = distlib.Grain(0.1) # a grain with radius 0.1 micron\n",
    "big_grain   = distlib.Grain(1.0) # a grain with radius 1.0 micron"
   ]
  },
  {
   "cell_type": "code",
   "execution_count": 4,
   "metadata": {
    "collapsed": false
   },
   "outputs": [
    {
     "name": "stdout",
     "output_type": "stream",
     "text": [
      "Using dust mass column 1.00e-05 g cm^-2 and rho=2.5 g cm^-3:\n",
      "Number of small grains = 9.55e+08 cm^-2 \n",
      " Number of big grains = 9.55e+05 cm^-2\n"
     ]
    }
   ],
   "source": [
    "print(\"Using dust mass column %.2e g cm^-2 and rho=%.1f g cm^-3:\" % (MD, RHO))\n",
    "print(\"Number of small grains = %.2e cm^-2 \\n Number of big grains = %.2e cm^-2\" % \n",
    "      (small_grain.ndens(MD, RHO), big_grain.ndens(MD, RHO)))"
   ]
  },
  {
   "cell_type": "markdown",
   "metadata": {},
   "source": [
    "## 2. A powerlaw distribution of grains\n",
    "\n",
    "*distlib.Powerlaw()*\n",
    "\n",
    "$$ dn/da \\propto a^{-p} $$\n",
    "\n",
    "between **amin** and **amax**."
   ]
  },
  {
   "cell_type": "code",
   "execution_count": 5,
   "metadata": {
    "collapsed": false
   },
   "outputs": [],
   "source": [
    "MRN1 = distlib.Powerlaw(0.005, 0.3, 3.5)\n",
    "MRN2 = distlib.Powerlaw(0.005, 0.25, 3.5)\n",
    "MRN3 = distlib.Powerlaw(0.005, 0.3, 4.0)"
   ]
  },
  {
   "cell_type": "code",
   "execution_count": 6,
   "metadata": {
    "collapsed": false
   },
   "outputs": [
    {
     "data": {
      "text/plain": [
       "(0.003, 0.5)"
      ]
     },
     "execution_count": 6,
     "metadata": {},
     "output_type": "execute_result"
    },
    {
     "data": {
      "image/png": "[encoded data removed]",
      "text/plain": [
       "<matplotlib.figure.Figure at 0x10fa24790>"
      ]
     },
     "metadata": {},
     "output_type": "display_data"
    }
   ],
   "source": [
    "plt.plot(MRN1.a, MRN1.ndens(MD, RHO) * MRN1.a**4, label='amax=%.3f, p=%.2f' % (MRN1.a[-1], MRN1.p))\n",
    "plt.plot(MRN2.a, MRN2.ndens(MD, RHO) * MRN2.a**4, label='amax=%.3f, p=%.2f' % (MRN2.a[-1], MRN2.p))\n",
    "plt.plot(MRN3.a, MRN3.ndens(MD, RHO) * MRN3.a**4, label='amax=%.3f, p=%.2f' % (MRN3.a[-1], MRN3.p))\n",
    "\n",
    "plt.legend(loc='upper left', frameon=False)\n",
    "plt.loglog()\n",
    "plt.xlabel('Grain radius ($\\mu$m)')\n",
    "plt.ylabel(r'$a^4 dn/da$ (cm$^{-2}$ $\\mu$m$^{3}$)')\n",
    "plt.xlim(3.e-3,0.5)"
   ]
  },
  {
   "cell_type": "markdown",
   "metadata": {},
   "source": [
    "## 3. Dust grain size distributions from Weingartner & Draine (2001)\n",
    "\n",
    "http://adsabs.harvard.edu/abs/2001ApJ...548..296W\n",
    "\n",
    "*distlib.WD01()*\n",
    "\n",
    "Input parameters include:\n",
    "+ *rad* - an array of grain sizes\n",
    "+ *comp* - a string describing the composition ('Graphite' or 'Silicate')\n",
    "+ *gal* - Galaxy to use ('MW','LMC', or 'SMC')\n",
    "+ *R_V* - 3.1, 4.0, or 5.5\n",
    "+ *bc* - an integer value between 0 and 6\n",
    "+ *verbose* - if True, prints information about the distribution parameters used"
   ]
  },
  {
   "cell_type": "code",
   "execution_count": 7,
   "metadata": {
    "collapsed": true
   },
   "outputs": [],
   "source": [
    "AVALS = np.logspace(np.log10(0.005), np.log10(2.0), 100)"
   ]
  },
  {
   "cell_type": "markdown",
   "metadata": {},
   "source": [
    "**Some default Milky Way dust grain distributions**"
   ]
  },
  {
   "cell_type": "code",
   "execution_count": 8,
   "metadata": {
    "collapsed": false
   },
   "outputs": [
    {
     "name": "stdout",
     "output_type": "stream",
     "text": [
      "Using MW model for Graphite from\n",
      "Weingartner, C. & Draine, B. T. 2001, ApJ, 548, 296\n",
      "http://adsabs.harvard.edu/abs/2001ApJ...548..296W\n",
      "rho = 2.240000\n",
      "('R_V   = ', 3.1000000000000001)\n",
      "('bc    = ', 0.0)\n",
      "('alpha = ', -2.25)\n",
      "('beta  = ', -0.064799999999999996)\n",
      "('a_t   = ', 0.00745)\n",
      "('a_c   = ', 0.60599999999999998)\n",
      "('C     = ', 9.9400000000000001e-11)\n"
     ]
    }
   ],
   "source": [
    "MW_gra = distlib.WD01(comp='Graphite', rad=AVALS, verbose=True)"
   ]
  },
  {
   "cell_type": "code",
   "execution_count": 9,
   "metadata": {
    "collapsed": false
   },
   "outputs": [
    {
     "name": "stdout",
     "output_type": "stream",
     "text": [
      "Using MW model for Silicate from\n",
      "Weingartner, C. & Draine, B. T. 2001, ApJ, 548, 296\n",
      "http://adsabs.harvard.edu/abs/2001ApJ...548..296W\n",
      "rho = 3.800000\n",
      "('R_V   = ', 3.1000000000000001)\n",
      "('bc    = ', 0.0)\n",
      "('alpha = ', -1.48)\n",
      "('beta  = ', -9.3399999999999999)\n",
      "('a_t   = ', 0.17199999999999999)\n",
      "('a_c   = ', 0.1)\n",
      "('C     = ', 1.0200000000000001e-12)\n"
     ]
    }
   ],
   "source": [
    "MW_sil = distlib.WD01(comp='Silicate', rad=AVALS, verbose=True)"
   ]
  },
  {
   "cell_type": "markdown",
   "metadata": {},
   "source": [
    "**Milky Way dust with R_V=5.5**"
   ]
  },
  {
   "cell_type": "code",
   "execution_count": 10,
   "metadata": {
    "collapsed": false
   },
   "outputs": [],
   "source": [
    "MW_grey_gra = distlib.WD01(comp='Graphite', R_V=5.5, rad=AVALS, verbose=False)\n",
    "MW_grey_sil = distlib.WD01(comp='Silicate', R_V=5.5, rad=AVALS, verbose=False)"
   ]
  },
  {
   "cell_type": "markdown",
   "metadata": {},
   "source": [
    "**Some SMC and LMC silicate dust distributions**"
   ]
  },
  {
   "cell_type": "code",
   "execution_count": 11,
   "metadata": {
    "collapsed": false
   },
   "outputs": [
    {
     "name": "stdout",
     "output_type": "stream",
     "text": [
      "Using SMC model for Silicate from\n",
      "Weingartner, C. & Draine, B. T. 2001, ApJ, 548, 296\n",
      "http://adsabs.harvard.edu/abs/2001ApJ...548..296W\n",
      "rho = 3.800000\n",
      "('R_V   = ', '--')\n",
      "('bc    = ', 0.0)\n",
      "('alpha = ', -2.2599999999999998)\n",
      "('beta  = ', -3.46)\n",
      "('a_t   = ', 0.216)\n",
      "('a_c   = ', 0.1)\n",
      "('C     = ', 3.1599999999999999e-14)\n"
     ]
    }
   ],
   "source": [
    "SMC_sil = distlib.WD01(gal='SMC', comp='Silicate', rad=AVALS, verbose=True)"
   ]
  },
  {
   "cell_type": "code",
   "execution_count": 12,
   "metadata": {
    "collapsed": false
   },
   "outputs": [
    {
     "name": "stdout",
     "output_type": "stream",
     "text": [
      "Using LMC model for Silicate from\n",
      "Weingartner, C. & Draine, B. T. 2001, ApJ, 548, 296\n",
      "http://adsabs.harvard.edu/abs/2001ApJ...548..296W\n",
      "rho = 3.800000\n",
      "('R_V   = ', '--')\n",
      "('bc    = ', 0.0)\n",
      "('alpha = ', -2.4500000000000002)\n",
      "('beta  = ', 0.125)\n",
      "('a_t   = ', 0.191)\n",
      "('a_c   = ', 0.1)\n",
      "('C     = ', 1.8399999999999999e-14)\n"
     ]
    }
   ],
   "source": [
    "LMC_sil = distlib.WD01(gal='LMC', comp='Silicate', rad=AVALS, verbose=True)"
   ]
  },
  {
   "cell_type": "markdown",
   "metadata": {},
   "source": [
    "**Make some comparison plots**\n",
    "\n",
    "Make a **plot_sizedist** function as a shortcut"
   ]
  },
  {
   "cell_type": "code",
   "execution_count": 13,
   "metadata": {
    "collapsed": true
   },
   "outputs": [],
   "source": [
    "def plot_sizedist(ax, dist, md, rho, **kwargs):\n",
    "    ax.plot(dist.a, dist.ndens(md, rho) * dist.a**4, **kwargs)\n",
    "    ax.set_xlabel('Grain radius ($\\mu$m)')\n",
    "    ax.set_ylabel(r'$a^4 dn/da$ (cm$^{-2}$ $\\mu$m$^{3}$)')\n",
    "    return"
   ]
  },
  {
   "cell_type": "code",
   "execution_count": 14,
   "metadata": {
    "collapsed": false
   },
   "outputs": [
    {
     "data": {
      "text/plain": [
       "(10.0, 10000000.0)"
      ]
     },
     "execution_count": 14,
     "metadata": {},
     "output_type": "execute_result"
    },
    {
     "data": {
      "image/png": "[encoded data removed]",
      "text/plain": [
       "<matplotlib.figure.Figure at 0x110269410>"
      ]
     },
     "metadata": {},
     "output_type": "display_data"
    }
   ],
   "source": [
    "ax = plt.subplot(111)\n",
    "\n",
    "plot_sizedist(ax, MW_gra, MD, RHO, color='b', label='Graphite MW dust\\nR_V=%.1f' % (MW_gra.R_V))\n",
    "plot_sizedist(ax, MW_sil, MD, RHO, color='g', label='Silicate MW dust\\nR_V=%.1f' % (MW_sil.R_V))\n",
    "plot_sizedist(ax, MW_grey_gra, MD, RHO, color='b', ls='--', label='R_V=%.1f' % (MW_grey_gra.R_V))\n",
    "plot_sizedist(ax, MW_grey_sil, MD, RHO, color='g', ls='--', label='R_V=%.1f' % (MW_grey_sil.R_V))\n",
    "\n",
    "plt.legend(loc='lower left', frameon=False, fontsize=10)\n",
    "plt.loglog()\n",
    "plt.xlim(3.e-3,2.0)\n",
    "plt.ylim(10.,1.e7)"
   ]
  },
  {
   "cell_type": "code",
   "execution_count": 15,
   "metadata": {
    "collapsed": false
   },
   "outputs": [
    {
     "data": {
      "text/plain": [
       "(10.0, 10000000.0)"
      ]
     },
     "execution_count": 15,
     "metadata": {},
     "output_type": "execute_result"
    },
    {
     "data": {
      "image/png": "[encoded data removed]",
      "text/plain": [
       "<matplotlib.figure.Figure at 0x11027e2d0>"
      ]
     },
     "metadata": {},
     "output_type": "display_data"
    }
   ],
   "source": [
    "ax = plt.subplot(111)\n",
    "\n",
    "plot_sizedist(ax, MW_gra, MD, RHO, label='Graphite MW dust')\n",
    "plot_sizedist(ax, MW_sil, MD, RHO, label='Silicate MW dust')\n",
    "plot_sizedist(ax, SMC_sil, MD, RHO, label='SMC silicates')\n",
    "plot_sizedist(ax, LMC_sil, MD, RHO, label='LMC silicates')\n",
    "\n",
    "plt.legend(loc='lower left', frameon=False, fontsize=10)\n",
    "plt.loglog()\n",
    "plt.xlim(3.e-3,2.0)\n",
    "plt.ylim(10.,1.e7)"
   ]
  },
  {
   "cell_type": "code",
   "execution_count": null,
   "metadata": {
    "collapsed": true
   },
   "outputs": [],
   "source": []
  }
 ],
 "metadata": {
  "kernelspec": {
   "display_name": "Python 2",
   "language": "python",
   "name": "python2"
  },
  "language_info": {
   "codemirror_mode": {
    "name": "ipython",
    "version": 2
   },
   "file_extension": ".py",
   "mimetype": "text/x-python",
   "name": "python",
   "nbconvert_exporter": "python",
   "pygments_lexer": "ipython2",
   "version": "2.7.11"
  }
 },
 "nbformat": 4,
 "nbformat_minor": 0
}
