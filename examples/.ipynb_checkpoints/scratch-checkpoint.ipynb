{
 "cells": [
  {
   "cell_type": "code",
   "execution_count": 1,
   "metadata": {
    "collapsed": true
   },
   "outputs": [],
   "source": [
    "import numpy as np\n",
    "import matplotlib.pyplot as plt\n",
    "\n",
    "%matplotlib inline"
   ]
  },
  {
   "cell_type": "code",
   "execution_count": 7,
   "metadata": {
    "collapsed": false
   },
   "outputs": [],
   "source": [
    "from chandra_viz import gratings_geo as geo"
   ]
  },
  {
   "cell_type": "code",
   "execution_count": 19,
   "metadata": {
    "collapsed": false
   },
   "outputs": [
    {
     "name": "stdout",
     "output_type": "stream",
     "text": [
      "HEG and MEG dispersion angles for 0.3 keV: 8660.2 4329.5 pixels (respectively)\n"
     ]
    }
   ],
   "source": [
    "HEG_low = geo.disp_angle(0.3, 'heg', unit='pixels')\n",
    "MEG_low = geo.disp_angle(0.3, 'meg', unit='pixels')\n",
    "print(\"HEG and MEG dispersion angles for 0.3 keV: %.1f %.1f pixels (respectively)\" % (HEG_low, MEG_low))"
   ]
  },
  {
   "cell_type": "code",
   "execution_count": 24,
   "metadata": {
    "collapsed": false
   },
   "outputs": [
    {
     "name": "stdout",
     "output_type": "stream",
     "text": [
      "HEG and MEG dispersion angles for 1.4 keV: 1855.6 927.7 pixels (respectively)\n"
     ]
    }
   ],
   "source": [
    "HEG_low2 = geo.disp_angle(1.4, 'heg', unit='pixels')\n",
    "MEG_low2 = geo.disp_angle(1.4, 'meg', unit='pixels')\n",
    "print(\"HEG and MEG dispersion angles for 1.4 keV: %.1f %.1f pixels (respectively)\" % (HEG_low2, MEG_low2))"
   ]
  },
  {
   "cell_type": "code",
   "execution_count": 25,
   "metadata": {
    "collapsed": false
   },
   "outputs": [
    {
     "name": "stdout",
     "output_type": "stream",
     "text": [
      "HEG and MEG dispersion angles for 2.0 keV: 1298.9 649.4 pixels (respectively)\n"
     ]
    }
   ],
   "source": [
    "HEG_low3 = geo.disp_angle(2.0, 'heg', unit='pixels')\n",
    "MEG_low3 = geo.disp_angle(2.0, 'meg', unit='pixels')\n",
    "print(\"HEG and MEG dispersion angles for 2.0 keV: %.1f %.1f pixels (respectively)\" % (HEG_low3, MEG_low3))"
   ]
  },
  {
   "cell_type": "code",
   "execution_count": null,
   "metadata": {
    "collapsed": true
   },
   "outputs": [],
   "source": []
  }
 ],
 "metadata": {
  "kernelspec": {
   "display_name": "Python 2",
   "language": "python",
   "name": "python2"
  },
  "language_info": {
   "codemirror_mode": {
    "name": "ipython",
    "version": 2
   },
   "file_extension": ".py",
   "mimetype": "text/x-python",
   "name": "python",
   "nbconvert_exporter": "python",
   "pygments_lexer": "ipython2",
   "version": "2.7.11"
  }
 },
 "nbformat": 4,
 "nbformat_minor": 0
}
