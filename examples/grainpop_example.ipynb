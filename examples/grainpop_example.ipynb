{
 "cells": [
  {
   "cell_type": "code",
   "execution_count": 1,
   "metadata": {
    "collapsed": true
   },
   "outputs": [],
   "source": [
    "import numpy as np\n",
    "import matplotlib.pyplot as plt\n",
    "\n",
    "%matplotlib inline"
   ]
  },
  {
   "cell_type": "code",
   "execution_count": 2,
   "metadata": {
    "collapsed": false
   },
   "outputs": [],
   "source": [
    "from astrodust import distlib\n",
    "from astrodust import extinction\n",
    "from astrodust.grainpop import GrainPop, make_MRN_GrainPop"
   ]
  },
  {
   "cell_type": "code",
   "execution_count": 3,
   "metadata": {
    "collapsed": true
   },
   "outputs": [],
   "source": [
    "MD   = 1.e-5 # g cm^-2\n",
    "fgra = 0.4\n",
    "fsil = 1.0-0.4\n",
    "\n",
    "# Parameters for a power law distribution of dust grains\n",
    "AMIN = 0.005\n",
    "AMAX = 0.3\n",
    "PLAW = 3.5"
   ]
  },
  {
   "cell_type": "markdown",
   "metadata": {},
   "source": [
    "# Examples using distlib.GrainPop objects\n",
    "\n",
    "1. Initializing a **distlib.GrainPop** object\n",
    "\n",
    "2. Calculating an extinction curve\n",
    "\n",
    "3. Calculating dust grain albedo"
   ]
  },
  {
   "cell_type": "markdown",
   "metadata": {},
   "source": [
    "## 1. Initializing a distlib.GrainPop object"
   ]
  },
  {
   "cell_type": "code",
   "execution_count": 4,
   "metadata": {
    "collapsed": false
   },
   "outputs": [
    {
     "name": "stdout",
     "output_type": "stream",
     "text": [
      "Using MW model for Graphite from\n",
      "Weingartner, C. & Draine, B. T. 2001, ApJ, 548, 296\n",
      "http://adsabs.harvard.edu/abs/2001ApJ...548..296W\n",
      "rho = 2.240000\n",
      "('R_V   = ', 3.1000000000000001)\n",
      "('bc    = ', 0.0)\n",
      "('alpha = ', -2.25)\n",
      "('beta  = ', -0.064799999999999996)\n",
      "('a_t   = ', 0.00745)\n",
      "('a_c   = ', 0.60599999999999998)\n",
      "('C     = ', 9.9400000000000001e-11)\n"
     ]
    }
   ],
   "source": [
    "WD01_gra = GrainPop(sizedist=distlib.WD01(comp='Graphite'),\n",
    "                    composition=distlib.Composition('Graphite'),\n",
    "                    scatmodel=extinction.Mie(),\n",
    "                    md=MD*fgra)"
   ]
  },
  {
   "cell_type": "code",
   "execution_count": 5,
   "metadata": {
    "collapsed": false
   },
   "outputs": [
    {
     "name": "stdout",
     "output_type": "stream",
     "text": [
      "Using MW model for Silicate from\n",
      "Weingartner, C. & Draine, B. T. 2001, ApJ, 548, 296\n",
      "http://adsabs.harvard.edu/abs/2001ApJ...548..296W\n",
      "rho = 3.800000\n",
      "('R_V   = ', 3.1000000000000001)\n",
      "('bc    = ', 0.0)\n",
      "('alpha = ', -1.48)\n",
      "('beta  = ', -9.3399999999999999)\n",
      "('a_t   = ', 0.17199999999999999)\n",
      "('a_c   = ', 0.1)\n",
      "('C     = ', 1.0200000000000001e-12)\n"
     ]
    }
   ],
   "source": [
    "WD01_sil = GrainPop(sizedist=distlib.WD01(comp='Silicate'),\n",
    "                    composition=distlib.Composition('Silicate'),\n",
    "                    scatmodel=extinction.Mie(), \n",
    "                    md=MD*fsil)"
   ]
  },
  {
   "cell_type": "markdown",
   "metadata": {},
   "source": [
    "There is a shortcut for a powerlaw distribution of dust grains (MRN)"
   ]
  },
  {
   "cell_type": "code",
   "execution_count": 6,
   "metadata": {
    "collapsed": true
   },
   "outputs": [],
   "source": [
    "MRN_gra = make_MRN_GrainPop(AMIN, AMAX, PLAW,\n",
    "                            compname='Graphite', scatname='Mie', md=MD*fgra)"
   ]
  },
  {
   "cell_type": "code",
   "execution_count": 7,
   "metadata": {
    "collapsed": true
   },
   "outputs": [],
   "source": [
    "MRN_sil = make_MRN_GrainPop(AMIN, AMAX, PLAW,\n",
    "                            compname='Silicate', scatname='Mie', md=MD*fsil)"
   ]
  },
  {
   "cell_type": "markdown",
   "metadata": {},
   "source": [
    "# 2. Calculating an extinction curve"
   ]
  },
  {
   "cell_type": "code",
   "execution_count": 27,
   "metadata": {
    "collapsed": false
   },
   "outputs": [],
   "source": [
    "WAVEL = np.logspace(3.0, 6.0, 100) # 0.1-100 microns, log spaced samples"
   ]
  },
  {
   "cell_type": "code",
   "execution_count": 36,
   "metadata": {
    "collapsed": false
   },
   "outputs": [
    {
     "name": "stdout",
     "output_type": "stream",
     "text": [
      "WARNING: Using wavelength grid from previous extinction calculation\n",
      "Using optical constants for graphite,\n",
      "Draine, B. T. 2003, ApJ, 598, 1026\n",
      "http://adsabs.harvard.edu/abs/2003ApJ...598.1026D\n",
      "WARNING: Using wavelength grid from previous extinction calculation\n",
      "Using optical constants for astrosilicate,\n",
      "Draine, B. T. 2003, ApJ, 598, 1026\n",
      "http://adsabs.harvard.edu/abs/2003ApJ...598.1026D\n",
      "CPU times: user 810 ms, sys: 3.08 ms, total: 814 ms\n",
      "Wall time: 816 ms\n"
     ]
    }
   ],
   "source": [
    "%%time\n",
    "WD01_gra.calc_tau_ext(WAVEL)\n",
    "WD01_sil.calc_tau_ext(WAVEL)"
   ]
  },
  {
   "cell_type": "code",
   "execution_count": 29,
   "metadata": {
    "collapsed": false
   },
   "outputs": [
    {
     "name": "stdout",
     "output_type": "stream",
     "text": [
      "WARNING: Using wavelength grid from previous extinction calculation\n",
      "Using optical constants for graphite,\n",
      "Draine, B. T. 2003, ApJ, 598, 1026\n",
      "http://adsabs.harvard.edu/abs/2003ApJ...598.1026D\n",
      "WARNING: Using wavelength grid from previous extinction calculation\n",
      "Using optical constants for astrosilicate,\n",
      "Draine, B. T. 2003, ApJ, 598, 1026\n",
      "http://adsabs.harvard.edu/abs/2003ApJ...598.1026D\n",
      "CPU times: user 1.38 s, sys: 3.28 ms, total: 1.38 s\n",
      "Wall time: 1.4 s\n"
     ]
    }
   ],
   "source": [
    "%%time\n",
    "MRN_gra.calc_tau_ext(WAVEL)\n",
    "MRN_sil.calc_tau_ext(WAVEL)"
   ]
  },
  {
   "cell_type": "code",
   "execution_count": 35,
   "metadata": {
    "collapsed": false
   },
   "outputs": [
    {
     "data": {
      "text/plain": [
       "<matplotlib.legend.Legend at 0x11384dd90>"
      ]
     },
     "execution_count": 35,
     "metadata": {},
     "output_type": "execute_result"
    },
    {
     "data": {
      "image/png": "[encoded data removed]",
      "text/plain": [
       "<matplotlib.figure.Figure at 0x11249f210>"
      ]
     },
     "metadata": {},
     "output_type": "display_data"
    }
   ],
   "source": [
    "inverse_wavel = 1.0 / (WAVEL * 1.e-4)  # 1/wavelength, um^-1\n",
    "\n",
    "plt.plot(inverse_wavel, WD01_gra.ext.tau_ext, 'b', label='WD01 MW graphite')\n",
    "plt.plot(inverse_wavel, WD01_sil.ext.tau_ext, 'g', label='WD01 MW silicate')\n",
    "\n",
    "plt.plot(inverse_wavel, MRN_gra.ext.tau_ext, 'b--', label='MRN graphite')\n",
    "plt.plot(inverse_wavel, MRN_sil.ext.tau_ext, 'g--', label='MRN silicate')\n",
    "\n",
    "plt.xlabel(r'1/$\\lambda$ [$\\mu$m$^{-1}$]')\n",
    "plt.ylabel('Extinction')\n",
    "\n",
    "plt.loglog()\n",
    "plt.legend(loc='lower right', frameon=False)"
   ]
  },
  {
   "cell_type": "code",
   "execution_count": null,
   "metadata": {
    "collapsed": true
   },
   "outputs": [],
   "source": []
  }
 ],
 "metadata": {
  "kernelspec": {
   "display_name": "Python 2",
   "language": "python",
   "name": "python2"
  },
  "language_info": {
   "codemirror_mode": {
    "name": "ipython",
    "version": 2
   },
   "file_extension": ".py",
   "mimetype": "text/x-python",
   "name": "python",
   "nbconvert_exporter": "python",
   "pygments_lexer": "ipython2",
   "version": "2.7.11"
  }
 },
 "nbformat": 4,
 "nbformat_minor": 0
}
