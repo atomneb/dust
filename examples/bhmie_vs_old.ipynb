{
 "cells": [
  {
   "cell_type": "code",
   "execution_count": 1,
   "metadata": {
    "collapsed": true
   },
   "outputs": [],
   "source": [
    "import numpy as np\n",
    "import matplotlib.pyplot as plt\n",
    "\n",
    "%matplotlib inline"
   ]
  },
  {
   "cell_type": "code",
   "execution_count": 2,
   "metadata": {
    "collapsed": false
   },
   "outputs": [],
   "source": [
    "from astrodust.extinction.bhmie import *\n",
    "from astrodust.distlib.composition import cmindex as cmi"
   ]
  },
  {
   "cell_type": "code",
   "execution_count": 3,
   "metadata": {
    "collapsed": true
   },
   "outputs": [],
   "source": [
    "A   = 0.1 # grain radius, in microns\n",
    "E   = np.logspace(-1, 1, 10)"
   ]
  },
  {
   "cell_type": "code",
   "execution_count": 4,
   "metadata": {
    "collapsed": true
   },
   "outputs": [],
   "source": [
    "bhm = BHmie(A, E, cmi.CmSilicate())"
   ]
  },
  {
   "cell_type": "code",
   "execution_count": 5,
   "metadata": {
    "collapsed": false
   },
   "outputs": [
    {
     "name": "stdout",
     "output_type": "stream",
     "text": [
      "('Filling D array using nmx = ', 5149)\n",
      "CPU times: user 3.61 s, sys: 624 ms, total: 4.23 s\n",
      "Wall time: 4.23 s\n"
     ]
    }
   ],
   "source": [
    "%%time\n",
    "bhm.calculate()"
   ]
  },
  {
   "cell_type": "code",
   "execution_count": 6,
   "metadata": {
    "collapsed": false
   },
   "outputs": [
    {
     "data": {
      "text/plain": [
       "array([[   67.4348    ,   104.0176381 ,   163.71488232,   261.72259608,\n",
       "          423.3434699 ,   690.73053463,  1134.13476701,  1870.66534551,\n",
       "         3095.58141231,  5134.48723258]])"
      ]
     },
     "execution_count": 6,
     "metadata": {},
     "output_type": "execute_result"
    }
   ],
   "source": [
    "bhm.X + 4.0 * np.power( bhm.X, 0.3333 ) + 2.0"
   ]
  },
  {
   "cell_type": "code",
   "execution_count": 7,
   "metadata": {
    "collapsed": false
   },
   "outputs": [
    {
     "data": {
      "text/plain": [
       "<matplotlib.text.Text at 0x10fafb090>"
      ]
     },
     "execution_count": 7,
     "metadata": {},
     "output_type": "execute_result"
    },
    {
     "data": {
      "image/png": "[encoded data removed]",
      "text/plain": [
       "<matplotlib.figure.Figure at 0x10fb7cd50>"
      ]
     },
     "metadata": {},
     "output_type": "display_data"
    }
   ],
   "source": [
    "def plot_bhmie(ax, bh):\n",
    "    ax.plot(E, bhm.Qsca[0,:], label='Qsca')\n",
    "    ax.plot(E, bhm.Qext[0,:], label='Qext')\n",
    "    ax.tick_params(labelsize=12)\n",
    "    plt.legend(loc='lower right', fontsize=14)\n",
    "\n",
    "ax = plt.subplot(111)\n",
    "plot_bhmie(ax, bhm)\n",
    "#plt.loglog()\n",
    "plt.xlabel(\"Energy (keV)\", size=14)\n",
    "plt.ylabel(\"Q\", size=14)"
   ]
  },
  {
   "cell_type": "markdown",
   "metadata": {},
   "source": [
    "## Compare it to previous Mie scattering code"
   ]
  },
  {
   "cell_type": "code",
   "execution_count": 8,
   "metadata": {
    "collapsed": true
   },
   "outputs": [],
   "source": [
    "from astrodust.extinction.scatmodels import Mie"
   ]
  },
  {
   "cell_type": "code",
   "execution_count": 9,
   "metadata": {
    "collapsed": false
   },
   "outputs": [],
   "source": [
    "old_mie = Mie()"
   ]
  },
  {
   "cell_type": "code",
   "execution_count": 10,
   "metadata": {
    "collapsed": false
   },
   "outputs": [
    {
     "name": "stdout",
     "output_type": "stream",
     "text": [
      "('nmx = ', 5149)\n",
      "CPU times: user 1.24 s, sys: 131 ms, total: 1.37 s\n",
      "Wall time: 1.37 s\n"
     ]
    }
   ],
   "source": [
    "%%time\n",
    "old_qsca = old_mie.Qsca(a=A, E=E, cm=cmi.CmSilicate())"
   ]
  },
  {
   "cell_type": "code",
   "execution_count": 11,
   "metadata": {
    "collapsed": false
   },
   "outputs": [
    {
     "name": "stdout",
     "output_type": "stream",
     "text": [
      "('nmx = ', 5149)\n",
      "CPU times: user 1.22 s, sys: 129 ms, total: 1.35 s\n",
      "Wall time: 1.36 s\n"
     ]
    }
   ],
   "source": [
    "%%time\n",
    "old_qext = old_mie.Qext(a=A, E=E, cm=cmi.CmSilicate())"
   ]
  },
  {
   "cell_type": "code",
   "execution_count": 12,
   "metadata": {
    "collapsed": false
   },
   "outputs": [
    {
     "data": {
      "text/plain": [
       "[]"
      ]
     },
     "execution_count": 12,
     "metadata": {},
     "output_type": "execute_result"
    },
    {
     "data": {
      "image/png": "[encoded data removed]",
      "text/plain": [
       "<matplotlib.figure.Figure at 0x10fb7cb90>"
      ]
     },
     "metadata": {},
     "output_type": "display_data"
    }
   ],
   "source": [
    "ax = plt.subplot(111)\n",
    "plot_bhmie(ax, bhm)\n",
    "plt.plot(E, old_qsca, 'b--')\n",
    "plt.plot(E, old_qext, 'g--')\n",
    "plt.loglog()"
   ]
  },
  {
   "cell_type": "markdown",
   "metadata": {},
   "source": [
    "### Compare stored items"
   ]
  },
  {
   "cell_type": "code",
   "execution_count": 13,
   "metadata": {
    "collapsed": true
   },
   "outputs": [],
   "source": [
    "from astrodust import constants as c"
   ]
  },
  {
   "cell_type": "code",
   "execution_count": 14,
   "metadata": {
    "collapsed": false
   },
   "outputs": [
    {
     "data": {
      "text/plain": [
       "False"
      ]
     },
     "execution_count": 14,
     "metadata": {},
     "output_type": "execute_result"
    }
   ],
   "source": [
    "np.any((bhm.chi[:,0,:] - old_mie.chi) != 0)"
   ]
  },
  {
   "cell_type": "code",
   "execution_count": 15,
   "metadata": {
    "collapsed": true
   },
   "outputs": [],
   "source": [
    "def test_chi(bhm, n, zero=2):\n",
    "    for i in np.arange(n)+zero:\n",
    "        print(\"i = %d\" % (i))\n",
    "        print(bhm.chi[i+1,:])\n",
    "        print(old_mie.chi[i+1,:])"
   ]
  },
  {
   "cell_type": "code",
   "execution_count": 16,
   "metadata": {
    "collapsed": false
   },
   "outputs": [
    {
     "name": "stdout",
     "output_type": "stream",
     "text": [
      "i = 2\n",
      "[[-0.4722443  -0.27876983 -0.41269627 -0.52468627 -0.57348935 -0.5439555\n",
      "   0.74421337  0.75977312 -0.78492715  0.4152585 ]]\n",
      "[-0.4722443  -0.27876983 -0.41269627 -0.52468627 -0.57348935 -0.5439555\n",
      "  0.74421337  0.75977312 -0.78492715  0.4152585 ]\n",
      "i = 3\n",
      "[[ 0.8434057  -0.97319174 -0.92247588 -0.86019649 -0.82505577  0.83578379\n",
      "  -0.66521372 -0.64851853  0.61855391  0.91003139]]\n",
      "[ 0.8434057  -0.97319174 -0.92247588 -0.86019649 -0.82505577  0.83578379\n",
      " -0.66521372 -0.64851853  0.61855391  0.91003139]\n",
      "i = 4\n",
      "[[ 0.62214406  0.17507894  0.3537746   0.4917484   0.55455027  0.55545681\n",
      "  -0.74970109 -0.76298035  0.786761   -0.41364108]]\n",
      "[ 0.62214406  0.17507894  0.3537746   0.4917484   0.55455027  0.55545681\n",
      " -0.74970109 -0.76298035  0.786761   -0.41364108]\n"
     ]
    }
   ],
   "source": [
    "test_chi(bhm, 3, zero=2)"
   ]
  },
  {
   "cell_type": "code",
   "execution_count": 17,
   "metadata": {
    "collapsed": false
   },
   "outputs": [
    {
     "data": {
      "text/plain": [
       "((5136, 10), (5136, 1, 10))"
      ]
     },
     "execution_count": 17,
     "metadata": {},
     "output_type": "execute_result"
    }
   ],
   "source": [
    "old_mie.chi.shape, bhm.chi.shape"
   ]
  },
  {
   "cell_type": "code",
   "execution_count": 18,
   "metadata": {
    "collapsed": false
   },
   "outputs": [
    {
     "data": {
      "text/plain": [
       "((5136, 10), (5136, 1, 10))"
      ]
     },
     "execution_count": 18,
     "metadata": {},
     "output_type": "execute_result"
    }
   ],
   "source": [
    "old_mie.an.shape, bhm.an.shape"
   ]
  },
  {
   "cell_type": "code",
   "execution_count": 19,
   "metadata": {
    "collapsed": false
   },
   "outputs": [
    {
     "data": {
      "text/plain": [
       "(0.14669838687684941-0.085049072413956095j)"
      ]
     },
     "execution_count": 19,
     "metadata": {},
     "output_type": "execute_result"
    }
   ],
   "source": [
    "np.mean(bhm.an)"
   ]
  },
  {
   "cell_type": "code",
   "execution_count": 20,
   "metadata": {
    "collapsed": false
   },
   "outputs": [
    {
     "data": {
      "text/plain": [
       "(0.0082043323493324188+0.018593296621866786j)"
      ]
     },
     "execution_count": 20,
     "metadata": {},
     "output_type": "execute_result"
    }
   ],
   "source": [
    "np.mean(old_mie.an)"
   ]
  },
  {
   "cell_type": "code",
   "execution_count": 21,
   "metadata": {
    "collapsed": false
   },
   "outputs": [
    {
     "data": {
      "text/plain": [
       "(10, 5150)"
      ]
     },
     "execution_count": 21,
     "metadata": {},
     "output_type": "execute_result"
    }
   ],
   "source": [
    "old_mie.d.shape"
   ]
  },
  {
   "cell_type": "code",
   "execution_count": 22,
   "metadata": {
    "collapsed": false
   },
   "outputs": [
    {
     "data": {
      "text/plain": [
       "(5150, 1, 10)"
      ]
     },
     "execution_count": 22,
     "metadata": {},
     "output_type": "execute_result"
    }
   ],
   "source": [
    "bhm.D.shape"
   ]
  },
  {
   "cell_type": "code",
   "execution_count": 23,
   "metadata": {
    "collapsed": false
   },
   "outputs": [
    {
     "data": {
      "text/plain": [
       "0j"
      ]
     },
     "execution_count": 23,
     "metadata": {},
     "output_type": "execute_result"
    }
   ],
   "source": [
    "np.sum(bhm.D[:,0,:].T - old_mie.d)"
   ]
  },
  {
   "cell_type": "code",
   "execution_count": null,
   "metadata": {
    "collapsed": true
   },
   "outputs": [],
   "source": []
  }
 ],
 "metadata": {
  "kernelspec": {
   "display_name": "Python 2",
   "language": "python",
   "name": "python2"
  },
  "language_info": {
   "codemirror_mode": {
    "name": "ipython",
    "version": 2
   },
   "file_extension": ".py",
   "mimetype": "text/x-python",
   "name": "python",
   "nbconvert_exporter": "python",
   "pygments_lexer": "ipython2",
   "version": "2.7.11"
  }
 },
 "nbformat": 4,
 "nbformat_minor": 0
}
