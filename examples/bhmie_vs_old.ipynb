{
 "cells": [
  {
   "cell_type": "code",
   "execution_count": 1,
   "metadata": {
    "collapsed": true
   },
   "outputs": [],
   "source": [
    "import numpy as np\n",
    "import matplotlib.pyplot as plt\n",
    "\n",
    "%matplotlib inline"
   ]
  },
  {
   "cell_type": "code",
   "execution_count": 2,
   "metadata": {
    "collapsed": false
   },
   "outputs": [
    {
     "name": "stderr",
     "output_type": "stream",
     "text": [
      "/Users/lia/anaconda/lib/python2.7/site-packages/IPython/kernel/__init__.py:13: ShimWarning: The `IPython.kernel` package has been deprecated. You should import from ipykernel or jupyter_client instead.\n",
      "  \"You should import from ipykernel or jupyter_client instead.\", ShimWarning)\n"
     ]
    }
   ],
   "source": [
    "from astrodust.extinction.bhmie import *\n",
    "from astrodust.distlib.composition import cmindex as cmi"
   ]
  },
  {
   "cell_type": "code",
   "execution_count": 3,
   "metadata": {
    "collapsed": true
   },
   "outputs": [],
   "source": [
    "A   = np.logspace(-2, -1, 3) # grain radius, in microns\n",
    "E   = np.logspace(-1, 1, 10)"
   ]
  },
  {
   "cell_type": "code",
   "execution_count": 4,
   "metadata": {
    "collapsed": true
   },
   "outputs": [],
   "source": [
    "bhm = BHmie(A, E, cmi.CmSilicate())"
   ]
  },
  {
   "cell_type": "code",
   "execution_count": 5,
   "metadata": {
    "collapsed": false
   },
   "outputs": [
    {
     "name": "stdout",
     "output_type": "stream",
     "text": [
      "('Filling D array using nmx = ', 5149)\n",
      "CPU times: user 11.3 s, sys: 6.97 s, total: 18.2 s\n",
      "Wall time: 18.2 s\n"
     ]
    }
   ],
   "source": [
    "%%time\n",
    "bhm.calculate()"
   ]
  },
  {
   "cell_type": "code",
   "execution_count": 6,
   "metadata": {
    "collapsed": false
   },
   "outputs": [
    {
     "data": {
      "text/plain": [
       "array([[   13.93232797,    18.59267229,    25.75079116,    36.96093986,\n",
       "           54.79447938,    83.51544583,   130.20673185,   206.64779725,\n",
       "          332.44584368,   540.25770052],\n",
       "       [   28.09440546,    40.66744026,    60.7366844 ,    93.14228925,\n",
       "          145.92686113,   232.46921172,   375.04258759,   610.74887325,\n",
       "         1001.41591838,  1650.10547241],\n",
       "       [   67.4348    ,   104.0176381 ,   163.71488232,   261.72259608,\n",
       "          423.3434699 ,   690.73053463,  1134.13476701,  1870.66534551,\n",
       "         3095.58141231,  5134.48723258]])"
      ]
     },
     "execution_count": 6,
     "metadata": {},
     "output_type": "execute_result"
    }
   ],
   "source": [
    "bhm.X + 4.0 * np.power( bhm.X, 0.3333 ) + 2.0"
   ]
  },
  {
   "cell_type": "code",
   "execution_count": 17,
   "metadata": {
    "collapsed": false
   },
   "outputs": [
    {
     "data": {
      "text/plain": [
       "<matplotlib.text.Text at 0x10ce48210>"
      ]
     },
     "execution_count": 17,
     "metadata": {},
     "output_type": "execute_result"
    },
    {
     "data": {
      "image/png": "[encoded data removed]",
      "text/plain": [
       "<matplotlib.figure.Figure at 0x10ca40c50>"
      ]
     },
     "metadata": {},
     "output_type": "display_data"
    }
   ],
   "source": [
    "def plot_bhmie(ax, bh, n_a=0, **kwargs):\n",
    "    ax.plot(E, bhm.Qsca[n_a,:], '--', **kwargs)\n",
    "    ax.plot(E, bhm.Qext[n_a,:], **kwargs)\n",
    "    ax.tick_params(labelsize=12)\n",
    "\n",
    "ax = plt.subplot(111)\n",
    "plot_bhmie(ax, bhm, color='k')\n",
    "plot_bhmie(ax, bhm, 1, color='g')\n",
    "plot_bhmie(ax, bhm, 2, color='b')\n",
    "plt.semilogy()\n",
    "plt.xlabel(\"Energy (keV)\", size=14)\n",
    "plt.ylabel(\"Q\", size=14)"
   ]
  },
  {
   "cell_type": "markdown",
   "metadata": {},
   "source": [
    "## Compare it to previous Mie scattering code"
   ]
  },
  {
   "cell_type": "code",
   "execution_count": 8,
   "metadata": {
    "collapsed": true
   },
   "outputs": [],
   "source": [
    "from astrodust.extinction.scatmodels import Mie"
   ]
  },
  {
   "cell_type": "code",
   "execution_count": 18,
   "metadata": {
    "collapsed": false
   },
   "outputs": [],
   "source": [
    "old_mie = Mie()"
   ]
  },
  {
   "cell_type": "code",
   "execution_count": 19,
   "metadata": {
    "collapsed": false
   },
   "outputs": [
    {
     "name": "stdout",
     "output_type": "stream",
     "text": [
      "('nmx = ', 555)\n",
      "('nmx = ', 1665)\n",
      "('nmx = ', 5149)\n",
      "CPU times: user 2.51 s, sys: 120 ms, total: 2.63 s\n",
      "Wall time: 2.63 s\n"
     ]
    }
   ],
   "source": [
    "%%time\n",
    "old_qsca = np.array([old_mie.Qsca(a=a, E=E, cm=cmi.CmSilicate()) for a in A])"
   ]
  },
  {
   "cell_type": "code",
   "execution_count": 29,
   "metadata": {
    "collapsed": false
   },
   "outputs": [
    {
     "name": "stdout",
     "output_type": "stream",
     "text": [
      "('nmx = ', 555)\n",
      "('nmx = ', 1665)\n",
      "('nmx = ', 5149)\n",
      "CPU times: user 2.65 s, sys: 142 ms, total: 2.8 s\n",
      "Wall time: 2.79 s\n"
     ]
    }
   ],
   "source": [
    "%%time\n",
    "old_qext = np.array([old_mie.Qext(a=a, E=E, cm=cmi.CmSilicate()) for a in A])"
   ]
  },
  {
   "cell_type": "code",
   "execution_count": 30,
   "metadata": {
    "collapsed": false
   },
   "outputs": [
    {
     "data": {
      "text/plain": [
       "(3, 10)"
      ]
     },
     "execution_count": 30,
     "metadata": {},
     "output_type": "execute_result"
    }
   ],
   "source": [
    "old_qext.shape"
   ]
  },
  {
   "cell_type": "code",
   "execution_count": 37,
   "metadata": {
    "collapsed": true
   },
   "outputs": [],
   "source": [
    "def compare_bhmie_vs_old(ax, n_a=0, **kwargs):\n",
    "    plot_bhmie(ax, bhm, n_a, **kwargs)\n",
    "    ax.plot(E, old_qsca[n_a,:], alpha=0.2, lw=2, **kwargs)\n",
    "    ax.plot(E, old_qext[n_a,:], alpha=0.2, lw=2, **kwargs)"
   ]
  },
  {
   "cell_type": "code",
   "execution_count": 40,
   "metadata": {
    "collapsed": false
   },
   "outputs": [
    {
     "data": {
      "text/plain": [
       "[]"
      ]
     },
     "execution_count": 40,
     "metadata": {},
     "output_type": "execute_result"
    },
    {
     "data": {
      "image/png": "[encoded data removed]",
      "text/plain": [
       "<matplotlib.figure.Figure at 0x10dd60a10>"
      ]
     },
     "metadata": {},
     "output_type": "display_data"
    }
   ],
   "source": [
    "ax = plt.subplot(111)\n",
    "compare_bhmie_vs_old(ax, color='k')\n",
    "compare_bhmie_vs_old(ax, n_a=1, color='b')\n",
    "compare_bhmie_vs_old(ax, n_a=2, color='g')\n",
    "plt.semilogy()"
   ]
  },
  {
   "cell_type": "code",
   "execution_count": null,
   "metadata": {
    "collapsed": true
   },
   "outputs": [],
   "source": []
  },
  {
   "cell_type": "markdown",
   "metadata": {},
   "source": [
    "### Compare stored items"
   ]
  },
  {
   "cell_type": "code",
   "execution_count": null,
   "metadata": {
    "collapsed": true
   },
   "outputs": [],
   "source": [
    "from astrodust import constants as c"
   ]
  },
  {
   "cell_type": "markdown",
   "metadata": {},
   "source": [
    "**chi values**"
   ]
  },
  {
   "cell_type": "code",
   "execution_count": null,
   "metadata": {
    "collapsed": false
   },
   "outputs": [],
   "source": [
    "np.any((bhm.chi[:,0,:] - old_mie.chi) != 0)"
   ]
  },
  {
   "cell_type": "code",
   "execution_count": null,
   "metadata": {
    "collapsed": true
   },
   "outputs": [],
   "source": [
    "def test_chi(bhm, n, zero=2):\n",
    "    for i in np.arange(n)+zero:\n",
    "        print(\"i = %d\" % (i))\n",
    "        print(bhm.chi[i+1,:])\n",
    "        print(old_mie.chi[i+1,:])"
   ]
  },
  {
   "cell_type": "code",
   "execution_count": null,
   "metadata": {
    "collapsed": false
   },
   "outputs": [],
   "source": [
    "test_chi(bhm, 3, zero=2)"
   ]
  },
  {
   "cell_type": "code",
   "execution_count": null,
   "metadata": {
    "collapsed": false
   },
   "outputs": [],
   "source": [
    "old_mie.chi.shape, bhm.chi.shape"
   ]
  },
  {
   "cell_type": "markdown",
   "metadata": {},
   "source": [
    "**an and bn**"
   ]
  },
  {
   "cell_type": "code",
   "execution_count": null,
   "metadata": {
    "collapsed": false
   },
   "outputs": [],
   "source": [
    "old_mie.an.shape, bhm.an.shape"
   ]
  },
  {
   "cell_type": "code",
   "execution_count": null,
   "metadata": {
    "collapsed": false
   },
   "outputs": [],
   "source": [
    "np.mean(bhm.an)"
   ]
  },
  {
   "cell_type": "code",
   "execution_count": null,
   "metadata": {
    "collapsed": false
   },
   "outputs": [],
   "source": [
    "np.mean(old_mie.an)"
   ]
  },
  {
   "cell_type": "code",
   "execution_count": null,
   "metadata": {
    "collapsed": true
   },
   "outputs": [],
   "source": [
    "def test_an(n, zero=2):\n",
    "    for i in np.arange(n)+zero:\n",
    "        print(\"i = %d\" % (i))\n",
    "        print(bhm.an[i+1,0,:])\n",
    "        print(old_mie.an[i+1,:])\n",
    "\n",
    "def test_bn(n, zero=2):\n",
    "    for i in np.arange(n)+zero:\n",
    "        print(\"i = %d\" % (i))\n",
    "        print(bhm.bn[i+1,0,:])\n",
    "        print(old_mie.bn[i+1,:])"
   ]
  },
  {
   "cell_type": "code",
   "execution_count": null,
   "metadata": {
    "collapsed": false
   },
   "outputs": [],
   "source": [
    "test_an(3, zero=-1)"
   ]
  },
  {
   "cell_type": "code",
   "execution_count": null,
   "metadata": {
    "collapsed": false
   },
   "outputs": [],
   "source": [
    "test_bn(3, zero=-1)"
   ]
  },
  {
   "cell_type": "code",
   "execution_count": null,
   "metadata": {
    "collapsed": false
   },
   "outputs": [],
   "source": [
    "print(np.any((bhm.an[:,0,:] - old_mie.an) != 0),\n",
    "      np.any((bhm.bn[:,0,:] - old_mie.bn) != 0))"
   ]
  },
  {
   "cell_type": "markdown",
   "metadata": {},
   "source": [
    "**D matrix**"
   ]
  },
  {
   "cell_type": "code",
   "execution_count": null,
   "metadata": {
    "collapsed": false
   },
   "outputs": [],
   "source": [
    "old_mie.d.shape"
   ]
  },
  {
   "cell_type": "code",
   "execution_count": null,
   "metadata": {
    "collapsed": false
   },
   "outputs": [],
   "source": [
    "bhm.D.shape"
   ]
  },
  {
   "cell_type": "code",
   "execution_count": null,
   "metadata": {
    "collapsed": false
   },
   "outputs": [],
   "source": [
    "np.sum(bhm.D[:,0,:].T - old_mie.d)"
   ]
  },
  {
   "cell_type": "code",
   "execution_count": null,
   "metadata": {
    "collapsed": true
   },
   "outputs": [],
   "source": []
  }
 ],
 "metadata": {
  "kernelspec": {
   "display_name": "Python 2",
   "language": "python",
   "name": "python2"
  },
  "language_info": {
   "codemirror_mode": {
    "name": "ipython",
    "version": 2
   },
   "file_extension": ".py",
   "mimetype": "text/x-python",
   "name": "python",
   "nbconvert_exporter": "python",
   "pygments_lexer": "ipython2",
   "version": "2.7.11"
  }
 },
 "nbformat": 4,
 "nbformat_minor": 0
}
