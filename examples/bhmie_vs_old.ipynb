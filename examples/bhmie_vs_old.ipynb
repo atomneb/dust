{
 "cells": [
  {
   "cell_type": "code",
   "execution_count": 1,
   "metadata": {
    "collapsed": true
   },
   "outputs": [],
   "source": [
    "import numpy as np\n",
    "import matplotlib.pyplot as plt\n",
    "\n",
    "%matplotlib inline"
   ]
  },
  {
   "cell_type": "code",
   "execution_count": 2,
   "metadata": {
    "collapsed": false
   },
   "outputs": [
    {
     "name": "stderr",
     "output_type": "stream",
     "text": [
      "/Users/lia/anaconda/lib/python2.7/site-packages/IPython/kernel/__init__.py:13: ShimWarning: The `IPython.kernel` package has been deprecated. You should import from ipykernel or jupyter_client instead.\n",
      "  \"You should import from ipykernel or jupyter_client instead.\", ShimWarning)\n"
     ]
    }
   ],
   "source": [
    "from astrodust.extinction.bhmie import *\n",
    "from astrodust.distlib.composition import cmindex as cmi"
   ]
  },
  {
   "cell_type": "code",
   "execution_count": 3,
   "metadata": {
    "collapsed": true
   },
   "outputs": [],
   "source": [
    "A   = 0.1 # grain radius, in microns\n",
    "E   = np.logspace(-1, 1, 10)"
   ]
  },
  {
   "cell_type": "code",
   "execution_count": 4,
   "metadata": {
    "collapsed": true
   },
   "outputs": [],
   "source": [
    "bhm = BHmie(A, E, cmi.CmSilicate())"
   ]
  },
  {
   "cell_type": "code",
   "execution_count": 5,
   "metadata": {
    "collapsed": false
   },
   "outputs": [
    {
     "name": "stdout",
     "output_type": "stream",
     "text": [
      "('Filling D array using nmx = ', 5149)\n",
      "CPU times: user 4.71 s, sys: 542 ms, total: 5.25 s\n",
      "Wall time: 5.25 s\n"
     ]
    }
   ],
   "source": [
    "%%time\n",
    "bhm.calculate()"
   ]
  },
  {
   "cell_type": "code",
   "execution_count": 6,
   "metadata": {
    "collapsed": false
   },
   "outputs": [
    {
     "data": {
      "text/plain": [
       "array([[   67.4348    ,   104.0176381 ,   163.71488232,   261.72259608,\n",
       "          423.3434699 ,   690.73053463,  1134.13476701,  1870.66534551,\n",
       "         3095.58141231,  5134.48723258]])"
      ]
     },
     "execution_count": 6,
     "metadata": {},
     "output_type": "execute_result"
    }
   ],
   "source": [
    "bhm.X + 4.0 * np.power( bhm.X, 0.3333 ) + 2.0"
   ]
  },
  {
   "cell_type": "code",
   "execution_count": 7,
   "metadata": {
    "collapsed": false
   },
   "outputs": [
    {
     "data": {
      "text/plain": [
       "<matplotlib.text.Text at 0x10b63fb90>"
      ]
     },
     "execution_count": 7,
     "metadata": {},
     "output_type": "execute_result"
    },
    {
     "data": {
      "image/png": "[encoded data removed]",
      "text/plain": [
       "<matplotlib.figure.Figure at 0x10b22eb50>"
      ]
     },
     "metadata": {},
     "output_type": "display_data"
    }
   ],
   "source": [
    "def plot_bhmie(ax, bh):\n",
    "    ax.plot(E, bhm.Qsca[0,:], label='Qsca')\n",
    "    ax.plot(E, bhm.Qext[0,:], label='Qext')\n",
    "    ax.tick_params(labelsize=12)\n",
    "    plt.legend(loc='lower right', fontsize=14)\n",
    "\n",
    "ax = plt.subplot(111)\n",
    "plot_bhmie(ax, bhm)\n",
    "#plt.loglog()\n",
    "plt.xlabel(\"Energy (keV)\", size=14)\n",
    "plt.ylabel(\"Q\", size=14)"
   ]
  },
  {
   "cell_type": "markdown",
   "metadata": {},
   "source": [
    "## Compare it to previous Mie scattering code"
   ]
  },
  {
   "cell_type": "code",
   "execution_count": 8,
   "metadata": {
    "collapsed": true
   },
   "outputs": [],
   "source": [
    "from astrodust.extinction.scatmodels import Mie"
   ]
  },
  {
   "cell_type": "code",
   "execution_count": 9,
   "metadata": {
    "collapsed": false
   },
   "outputs": [],
   "source": [
    "old_mie = Mie()"
   ]
  },
  {
   "cell_type": "code",
   "execution_count": 10,
   "metadata": {
    "collapsed": false
   },
   "outputs": [
    {
     "name": "stdout",
     "output_type": "stream",
     "text": [
      "('nmx = ', 5149)\n",
      "CPU times: user 1.88 s, sys: 122 ms, total: 2 s\n",
      "Wall time: 2 s\n"
     ]
    }
   ],
   "source": [
    "%%time\n",
    "old_qsca = old_mie.Qsca(a=A, E=E, cm=cmi.CmSilicate())"
   ]
  },
  {
   "cell_type": "code",
   "execution_count": 11,
   "metadata": {
    "collapsed": false
   },
   "outputs": [
    {
     "name": "stdout",
     "output_type": "stream",
     "text": [
      "('nmx = ', 5149)\n",
      "CPU times: user 2.01 s, sys: 155 ms, total: 2.16 s\n",
      "Wall time: 2.2 s\n"
     ]
    }
   ],
   "source": [
    "%%time\n",
    "old_qext = old_mie.Qext(a=A, E=E, cm=cmi.CmSilicate())"
   ]
  },
  {
   "cell_type": "code",
   "execution_count": 12,
   "metadata": {
    "collapsed": false
   },
   "outputs": [
    {
     "data": {
      "text/plain": [
       "[]"
      ]
     },
     "execution_count": 12,
     "metadata": {},
     "output_type": "execute_result"
    },
    {
     "data": {
      "image/png": "[encoded data removed]",
      "text/plain": [
       "<matplotlib.figure.Figure at 0x10b657d10>"
      ]
     },
     "metadata": {},
     "output_type": "display_data"
    }
   ],
   "source": [
    "ax = plt.subplot(111)\n",
    "plot_bhmie(ax, bhm)\n",
    "plt.plot(E, old_qsca, 'b--')\n",
    "plt.plot(E, old_qext, 'g--')\n",
    "plt.loglog()"
   ]
  },
  {
   "cell_type": "markdown",
   "metadata": {},
   "source": [
    "### Compare stored items"
   ]
  },
  {
   "cell_type": "code",
   "execution_count": 13,
   "metadata": {
    "collapsed": true
   },
   "outputs": [],
   "source": [
    "from astrodust import constants as c"
   ]
  },
  {
   "cell_type": "markdown",
   "metadata": {},
   "source": [
    "**chi values**"
   ]
  },
  {
   "cell_type": "code",
   "execution_count": 14,
   "metadata": {
    "collapsed": false
   },
   "outputs": [
    {
     "data": {
      "text/plain": [
       "False"
      ]
     },
     "execution_count": 14,
     "metadata": {},
     "output_type": "execute_result"
    }
   ],
   "source": [
    "np.any((bhm.chi[:,0,:] - old_mie.chi) != 0)"
   ]
  },
  {
   "cell_type": "code",
   "execution_count": 15,
   "metadata": {
    "collapsed": true
   },
   "outputs": [],
   "source": [
    "def test_chi(bhm, n, zero=2):\n",
    "    for i in np.arange(n)+zero:\n",
    "        print(\"i = %d\" % (i))\n",
    "        print(bhm.chi[i+1,:])\n",
    "        print(old_mie.chi[i+1,:])"
   ]
  },
  {
   "cell_type": "code",
   "execution_count": 16,
   "metadata": {
    "collapsed": false
   },
   "outputs": [
    {
     "name": "stdout",
     "output_type": "stream",
     "text": [
      "i = 2\n",
      "[[-0.4722443  -0.27876983 -0.41269627 -0.52468627 -0.57348935 -0.5439555\n",
      "   0.74421337  0.75977312 -0.78492715  0.4152585 ]]\n",
      "[-0.4722443  -0.27876983 -0.41269627 -0.52468627 -0.57348935 -0.5439555\n",
      "  0.74421337  0.75977312 -0.78492715  0.4152585 ]\n",
      "i = 3\n",
      "[[ 0.8434057  -0.97319174 -0.92247588 -0.86019649 -0.82505577  0.83578379\n",
      "  -0.66521372 -0.64851853  0.61855391  0.91003139]]\n",
      "[ 0.8434057  -0.97319174 -0.92247588 -0.86019649 -0.82505577  0.83578379\n",
      " -0.66521372 -0.64851853  0.61855391  0.91003139]\n",
      "i = 4\n",
      "[[ 0.62214406  0.17507894  0.3537746   0.4917484   0.55455027  0.55545681\n",
      "  -0.74970109 -0.76298035  0.786761   -0.41364108]]\n",
      "[ 0.62214406  0.17507894  0.3537746   0.4917484   0.55455027  0.55545681\n",
      " -0.74970109 -0.76298035  0.786761   -0.41364108]\n"
     ]
    }
   ],
   "source": [
    "test_chi(bhm, 3, zero=2)"
   ]
  },
  {
   "cell_type": "code",
   "execution_count": 17,
   "metadata": {
    "collapsed": false
   },
   "outputs": [
    {
     "data": {
      "text/plain": [
       "((5136, 10), (5136, 1, 10))"
      ]
     },
     "execution_count": 17,
     "metadata": {},
     "output_type": "execute_result"
    }
   ],
   "source": [
    "old_mie.chi.shape, bhm.chi.shape"
   ]
  },
  {
   "cell_type": "markdown",
   "metadata": {},
   "source": [
    "**an and bn**"
   ]
  },
  {
   "cell_type": "code",
   "execution_count": 18,
   "metadata": {
    "collapsed": false
   },
   "outputs": [
    {
     "data": {
      "text/plain": [
       "((5136, 10), (5136, 1, 10))"
      ]
     },
     "execution_count": 18,
     "metadata": {},
     "output_type": "execute_result"
    }
   ],
   "source": [
    "old_mie.an.shape, bhm.an.shape"
   ]
  },
  {
   "cell_type": "code",
   "execution_count": 19,
   "metadata": {
    "collapsed": false
   },
   "outputs": [
    {
     "data": {
      "text/plain": [
       "(0.0082043323493324188+0.018593296621866786j)"
      ]
     },
     "execution_count": 19,
     "metadata": {},
     "output_type": "execute_result"
    }
   ],
   "source": [
    "np.mean(bhm.an)"
   ]
  },
  {
   "cell_type": "code",
   "execution_count": 20,
   "metadata": {
    "collapsed": false
   },
   "outputs": [
    {
     "data": {
      "text/plain": [
       "(0.0082043323493324188+0.018593296621866786j)"
      ]
     },
     "execution_count": 20,
     "metadata": {},
     "output_type": "execute_result"
    }
   ],
   "source": [
    "np.mean(old_mie.an)"
   ]
  },
  {
   "cell_type": "code",
   "execution_count": 21,
   "metadata": {
    "collapsed": true
   },
   "outputs": [],
   "source": [
    "def test_an(n, zero=2):\n",
    "    for i in np.arange(n)+zero:\n",
    "        print(\"i = %d\" % (i))\n",
    "        print(bhm.an[i+1,0,:])\n",
    "        print(old_mie.an[i+1,:])\n",
    "\n",
    "def test_bn(n, zero=2):\n",
    "    for i in np.arange(n)+zero:\n",
    "        print(\"i = %d\" % (i))\n",
    "        print(bhm.bn[i+1,0,:])\n",
    "        print(old_mie.bn[i+1,:])"
   ]
  },
  {
   "cell_type": "code",
   "execution_count": 22,
   "metadata": {
    "collapsed": false
   },
   "outputs": [
    {
     "name": "stdout",
     "output_type": "stream",
     "text": [
      "i = -1\n",
      "[ 0.+0.j  0.+0.j  0.+0.j  0.+0.j  0.+0.j  0.+0.j  0.+0.j  0.+0.j  0.+0.j\n",
      "  0.+0.j]\n",
      "[ 0.+0.j  0.+0.j  0.+0.j  0.+0.j  0.+0.j  0.+0.j  0.+0.j  0.+0.j  0.+0.j\n",
      "  0.+0.j]\n",
      "i = 0\n",
      "[ 0.52705203 +1.35032885e-04j  0.59349666 -2.17799655e-04j\n",
      "  0.65149509 +2.21863796e-01j  0.35869571 +3.86691193e-01j\n",
      "  0.25175870 +2.68981960e-01j  0.11484828 +2.35722486e-01j\n",
      "  0.05496479 +1.70875416e-01j  0.01826033 +1.09071292e-01j\n",
      "  0.00563855 +6.46808496e-02j  0.00280861 +3.93243006e-02j]\n",
      "[ 0.52705203 +1.35032885e-04j  0.59349666 -2.17799655e-04j\n",
      "  0.65149509 +2.21863796e-01j  0.35869571 +3.86691193e-01j\n",
      "  0.25175870 +2.68981960e-01j  0.11484828 +2.35722486e-01j\n",
      "  0.05496479 +1.70875416e-01j  0.01826033 +1.09071292e-01j\n",
      "  0.00563855 +6.46808496e-02j  0.00280861 +3.93243006e-02j]\n",
      "i = 1\n",
      "[ 0.52839890+0.02011268j  0.58303686-0.0020788j   0.64903215+0.22034892j\n",
      "  0.35720698+0.38609356j  0.25109704+0.26858026j  0.11496722+0.2359036j\n",
      "  0.05503718+0.17101341j  0.01827681+0.10912932j  0.00564177+0.06470186j\n",
      "  0.00280790+0.03931807j]\n",
      "[ 0.52839890+0.02011268j  0.58303686-0.0020788j   0.64903215+0.22034892j\n",
      "  0.35720698+0.38609356j  0.25109704+0.26858026j  0.11496722+0.2359036j\n",
      "  0.05503718+0.17101341j  0.01827681+0.10912932j  0.00564177+0.06470186j\n",
      "  0.00280790+0.03931807j]\n"
     ]
    }
   ],
   "source": [
    "test_an(3, zero=-1)"
   ]
  },
  {
   "cell_type": "code",
   "execution_count": 23,
   "metadata": {
    "collapsed": false
   },
   "outputs": [
    {
     "name": "stdout",
     "output_type": "stream",
     "text": [
      "i = -1\n",
      "[ 0.+0.j  0.+0.j  0.+0.j  0.+0.j  0.+0.j  0.+0.j  0.+0.j  0.+0.j  0.+0.j\n",
      "  0.+0.j]\n",
      "[ 0.+0.j  0.+0.j  0.+0.j  0.+0.j  0.+0.j  0.+0.j  0.+0.j  0.+0.j  0.+0.j\n",
      "  0.+0.j]\n",
      "i = 0\n",
      "[ 0.52757540+0.02010898j  0.58301591-0.0024131j   0.64911542+0.22024298j\n",
      "  0.35723852+0.38609718j  0.25110330+0.26858154j  0.11496730+0.23590379j\n",
      "  0.05503727+0.17101361j  0.01827683+0.10912938j  0.00564177+0.06470187j\n",
      "  0.00280790+0.03931807j]\n",
      "[ 0.52757540+0.02010898j  0.58301591-0.0024131j   0.64911542+0.22024298j\n",
      "  0.35723852+0.38609718j  0.25110330+0.26858154j  0.11496730+0.23590379j\n",
      "  0.05503727+0.17101361j  0.01827683+0.10912938j  0.00564177+0.06470187j\n",
      "  0.00280790+0.03931807j]\n",
      "i = 1\n",
      "[ 0.52630726 +2.33724860e-04j  0.59357923 -3.92931318e-04j\n",
      "  0.65150126 +2.21853055e-01j  0.35869127 +3.86687762e-01j\n",
      "  0.25175721 +2.68980098e-01j  0.11484678 +2.35720918e-01j\n",
      "  0.05496460 +1.70875093e-01j  0.01826031 +1.09071223e-01j\n",
      "  0.00563854 +6.46808371e-02j  0.00280861 +3.93242958e-02j]\n",
      "[ 0.52630726 +2.33724860e-04j  0.59357923 -3.92931318e-04j\n",
      "  0.65150126 +2.21853055e-01j  0.35869127 +3.86687762e-01j\n",
      "  0.25175721 +2.68980098e-01j  0.11484678 +2.35720918e-01j\n",
      "  0.05496460 +1.70875093e-01j  0.01826031 +1.09071223e-01j\n",
      "  0.00563854 +6.46808371e-02j  0.00280861 +3.93242958e-02j]\n"
     ]
    }
   ],
   "source": [
    "test_bn(3, zero=-1)"
   ]
  },
  {
   "cell_type": "code",
   "execution_count": 28,
   "metadata": {
    "collapsed": false
   },
   "outputs": [
    {
     "name": "stdout",
     "output_type": "stream",
     "text": [
      "(False, False)\n"
     ]
    }
   ],
   "source": [
    "print(np.any((bhm.an[:,0,:] - old_mie.an) != 0),\n",
    "      np.any((bhm.bn[:,0,:] - old_mie.bn) != 0))"
   ]
  },
  {
   "cell_type": "markdown",
   "metadata": {},
   "source": [
    "**D matrix**"
   ]
  },
  {
   "cell_type": "code",
   "execution_count": 24,
   "metadata": {
    "collapsed": false
   },
   "outputs": [
    {
     "data": {
      "text/plain": [
       "(10, 5150)"
      ]
     },
     "execution_count": 24,
     "metadata": {},
     "output_type": "execute_result"
    }
   ],
   "source": [
    "old_mie.d.shape"
   ]
  },
  {
   "cell_type": "code",
   "execution_count": 25,
   "metadata": {
    "collapsed": false
   },
   "outputs": [
    {
     "data": {
      "text/plain": [
       "(5150, 1, 10)"
      ]
     },
     "execution_count": 25,
     "metadata": {},
     "output_type": "execute_result"
    }
   ],
   "source": [
    "bhm.D.shape"
   ]
  },
  {
   "cell_type": "code",
   "execution_count": 26,
   "metadata": {
    "collapsed": false
   },
   "outputs": [
    {
     "data": {
      "text/plain": [
       "0j"
      ]
     },
     "execution_count": 26,
     "metadata": {},
     "output_type": "execute_result"
    }
   ],
   "source": [
    "np.sum(bhm.D[:,0,:].T - old_mie.d)"
   ]
  },
  {
   "cell_type": "code",
   "execution_count": null,
   "metadata": {
    "collapsed": true
   },
   "outputs": [],
   "source": []
  }
 ],
 "metadata": {
  "kernelspec": {
   "display_name": "Python 2",
   "language": "python",
   "name": "python2"
  },
  "language_info": {
   "codemirror_mode": {
    "name": "ipython",
    "version": 2
   },
   "file_extension": ".py",
   "mimetype": "text/x-python",
   "name": "python",
   "nbconvert_exporter": "python",
   "pygments_lexer": "ipython2",
   "version": "2.7.11"
  }
 },
 "nbformat": 4,
 "nbformat_minor": 0
}
