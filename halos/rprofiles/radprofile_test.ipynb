{
 "metadata": {
  "name": "",
  "signature": "sha256:801b4628e48b2985caa5175db0a8144c474a93380c874aa15eecb1a40d53dbde"
 },
 "nbformat": 3,
 "nbformat_minor": 0,
 "worksheets": [
  {
   "cells": [
    {
     "cell_type": "code",
     "collapsed": false,
     "input": [
      "import numpy as np\n",
      "import matplotlib.pyplot as plt"
     ],
     "language": "python",
     "metadata": {},
     "outputs": [],
     "prompt_number": 1
    },
    {
     "cell_type": "code",
     "collapsed": false,
     "input": [
      "import radprofile as RP"
     ],
     "language": "python",
     "metadata": {},
     "outputs": [],
     "prompt_number": 2
    },
    {
     "cell_type": "code",
     "collapsed": false,
     "input": [
      "RPFILE = 'test_profile'"
     ],
     "language": "python",
     "metadata": {},
     "outputs": [],
     "prompt_number": 3
    },
    {
     "cell_type": "code",
     "collapsed": false,
     "input": [
      "profile = RP.get_profile( RPFILE )"
     ],
     "language": "python",
     "metadata": {},
     "outputs": [],
     "prompt_number": 4
    },
    {
     "cell_type": "code",
     "collapsed": false,
     "input": [
      "plt.errorbar(profile.rmid, profile.surbri, xerr=0.5*(profile.rright-profile.rleft), \\\n",
      "             yerr=profile.surbri_err, \\\n",
      "             marker='', capsize=0, ls='', color='k', lw=1, alpha=0.3)\n",
      "plt.loglog()\n",
      "plt.xlim(0.3,300.0)\n",
      "\n",
      "plt.title('Test that profile was read properly', color='k')"
     ],
     "language": "python",
     "metadata": {},
     "outputs": [
      {
       "metadata": {},
       "output_type": "pyout",
       "prompt_number": 5,
       "text": [
        "<matplotlib.text.Text at 0x10c2b9e50>"
       ]
      },
      {
       "metadata": {},
       "output_type": "display_data",
       "png": "[encoded data removed]",
       "text": [
        "<matplotlib.figure.Figure at 0x10c2a9b10>"
       ]
      }
     ],
     "prompt_number": 5
    },
    {
     "cell_type": "code",
     "collapsed": false,
     "input": [
      "RP.plot_profile(profile, color='b', ls='', capsize=0)\n",
      "plt.loglog()\n",
      "plt.xlim(0.3,300.0)\n",
      "\n",
      "plt.title('Test radprofile.plot_profile function', color='b')"
     ],
     "language": "python",
     "metadata": {},
     "outputs": [
      {
       "metadata": {},
       "output_type": "pyout",
       "prompt_number": 6,
       "text": [
        "<matplotlib.text.Text at 0x10c2f6390>"
       ]
      },
      {
       "metadata": {},
       "output_type": "display_data",
       "png": "[encoded data removed]",
       "text": [
        "<matplotlib.figure.Figure at 0x10c2c2a90>"
       ]
      }
     ],
     "prompt_number": 6
    },
    {
     "cell_type": "markdown",
     "metadata": {},
     "source": [
      "### Test error propagation -- addition"
     ]
    },
    {
     "cell_type": "code",
     "collapsed": false,
     "input": [
      "ADD_ERR = 0.2\n",
      "\n",
      "prop_add_result = np.sqrt(profile.surbri_err**2 + ADD_ERR**2)"
     ],
     "language": "python",
     "metadata": {},
     "outputs": [],
     "prompt_number": 7
    },
    {
     "cell_type": "code",
     "collapsed": false,
     "input": [
      "profile.minus(0.5, 0.2) # subtract 0.4 +/- 0.2"
     ],
     "language": "python",
     "metadata": {},
     "outputs": [],
     "prompt_number": 8
    },
    {
     "cell_type": "code",
     "collapsed": false,
     "input": [
      "# The printed result should be zero\n",
      "print np.sum(profile.surbri_err - prop_add_result)"
     ],
     "language": "python",
     "metadata": {},
     "outputs": [
      {
       "output_type": "stream",
       "stream": "stdout",
       "text": [
        "0.0\n"
       ]
      }
     ],
     "prompt_number": 9
    },
    {
     "cell_type": "markdown",
     "metadata": {},
     "source": [
      "### Try out log-min error bars"
     ]
    },
    {
     "cell_type": "code",
     "collapsed": false,
     "input": [
      "RP.plot_profile(profile, logmin=0.1, color='r', ls='', capsize=0)\n",
      "plt.loglog()\n",
      "plt.xlim(0.3,300.0)\n",
      "plt.ylim(0.1,1.e4)\n",
      "\n",
      "plt.title('Test log-min error bars', color='r')"
     ],
     "language": "python",
     "metadata": {},
     "outputs": [
      {
       "output_type": "stream",
       "stream": "stdout",
       "text": [
        "Utilizing logmin error bars\n"
       ]
      },
      {
       "metadata": {},
       "output_type": "pyout",
       "prompt_number": 10,
       "text": [
        "<matplotlib.text.Text at 0x10c79a7d0>"
       ]
      },
      {
       "metadata": {},
       "output_type": "display_data",
       "png": "[encoded data removed]",
       "text": [
        "<matplotlib.figure.Figure at 0x10c4f3950>"
       ]
      }
     ],
     "prompt_number": 10
    },
    {
     "cell_type": "markdown",
     "metadata": {},
     "source": [
      "### Test error propagation -- multiply and divide"
     ]
    },
    {
     "cell_type": "code",
     "collapsed": false,
     "input": [
      "## Multiplication\n",
      "MULT_FAC = 1.0\n",
      "MULT_ERR = 0.5\n",
      "\n",
      "prop_mult_result = np.sqrt( MULT_FAC**2 * profile.surbri_err**2 + profile.surbri**2 * MULT_ERR**2 )\n",
      "#prop_mult_result = profile.surbri*MULT_FAC * \\\n",
      "#    np.sqrt( (profile.surbri_err/profile.surbri)**2 + (MULT_ERR/MULT_FAC)**2 )"
     ],
     "language": "python",
     "metadata": {},
     "outputs": [],
     "prompt_number": 11
    },
    {
     "cell_type": "code",
     "collapsed": false,
     "input": [
      "profile.multiply(MULT_FAC, MULT_ERR)"
     ],
     "language": "python",
     "metadata": {},
     "outputs": [],
     "prompt_number": 12
    },
    {
     "cell_type": "code",
     "collapsed": false,
     "input": [
      "# The printed result should read zero\n",
      "print np.sum(profile.surbri_err - prop_mult_result)"
     ],
     "language": "python",
     "metadata": {},
     "outputs": [
      {
       "output_type": "stream",
       "stream": "stdout",
       "text": [
        "-1.40443212615e-14\n"
       ]
      }
     ],
     "prompt_number": 13
    },
    {
     "cell_type": "markdown",
     "metadata": {},
     "source": [
      "Close enough??"
     ]
    },
    {
     "cell_type": "code",
     "collapsed": false,
     "input": [
      "print prop_mult_result"
     ],
     "language": "python",
     "metadata": {},
     "outputs": [
      {
       "output_type": "stream",
       "stream": "stdout",
       "text": [
        "[  8.82956797e+02   1.69714034e+03   1.15694420e+03   6.45567335e+02\n",
        "   3.13833167e+02   1.58432100e+02   9.93252224e+01   5.86590579e+01\n",
        "   3.20940876e+01   2.04300922e+01   1.35852844e+01   7.45040012e+00\n",
        "   4.37159453e+00   3.43615240e+00   2.25467930e+00   1.33152423e+00\n",
        "   8.43097181e-01   5.10306774e-01   2.99473383e-01   9.33753105e-02]\n"
       ]
      }
     ],
     "prompt_number": 14
    },
    {
     "cell_type": "code",
     "collapsed": false,
     "input": [
      "print profile.surbri_err"
     ],
     "language": "python",
     "metadata": {},
     "outputs": [
      {
       "output_type": "stream",
       "stream": "stdout",
       "text": [
        "[  8.82956797e+02   1.69714034e+03   1.15694420e+03   6.45567335e+02\n",
        "   3.13833167e+02   1.58432100e+02   9.93252224e+01   5.86590579e+01\n",
        "   3.20940876e+01   2.04300922e+01   1.35852844e+01   7.45040012e+00\n",
        "   4.37159453e+00   3.43615240e+00   2.25467930e+00   1.33152423e+00\n",
        "   8.43097181e-01   5.10306774e-01   2.99473383e-01   9.33753105e-02]\n"
       ]
      }
     ],
     "prompt_number": 15
    },
    {
     "cell_type": "markdown",
     "metadata": {},
     "source": [
      "Yes, looks like a numerical thing"
     ]
    },
    {
     "cell_type": "code",
     "collapsed": false,
     "input": [
      "## Division\n",
      "DIV_FAC = 1.0\n",
      "DIV_ERR = 0.1\n",
      "\n",
      "prop_div_result = np.sqrt(profile.surbri_err**2 + (profile.surbri/DIV_FAC)**2*DIV_ERR**2) / DIV_FAC"
     ],
     "language": "python",
     "metadata": {},
     "outputs": [],
     "prompt_number": 16
    },
    {
     "cell_type": "code",
     "collapsed": false,
     "input": [
      "profile.divide(DIV_FAC, DIV_ERR)"
     ],
     "language": "python",
     "metadata": {},
     "outputs": [],
     "prompt_number": 17
    },
    {
     "cell_type": "code",
     "collapsed": false,
     "input": [
      "# The printed result should be zero\n",
      "print np.sum(profile.surbri_err - prop_div_result)"
     ],
     "language": "python",
     "metadata": {},
     "outputs": [
      {
       "output_type": "stream",
       "stream": "stdout",
       "text": [
        "0.0\n"
       ]
      }
     ],
     "prompt_number": 18
    }
   ],
   "metadata": {}
  }
 ]
}